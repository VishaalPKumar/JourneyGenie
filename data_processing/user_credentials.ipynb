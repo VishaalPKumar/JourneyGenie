{
 "cells": [
  {
   "cell_type": "code",
   "execution_count": 2,
   "metadata": {},
   "outputs": [
    {
     "name": "stdout",
     "output_type": "stream",
     "text": [
      "Data successfully written to user_credentials.csv\n"
     ]
    }
   ],
   "source": [
    "import csv\n",
    "from faker import Faker\n",
    "import random\n",
    "\n",
    "# Create a Faker generator\n",
    "fake = Faker()\n",
    "\n",
    "# Number of entries\n",
    "num_entries = 1000000\n",
    "\n",
    "# Filename\n",
    "filename = 'user_credentials.csv'\n",
    "\n",
    "# Open a new CSV file\n",
    "with open(filename, mode='w', newline='') as file:\n",
    "    writer = csv.writer(file)\n",
    "\n",
    "    # Write the header\n",
    "    writer.writerow(['email_address', 'password', 'first_name', 'last_name', 'age'])\n",
    "\n",
    "    # Generate and write fake data\n",
    "    for _ in range(num_entries):\n",
    "        email = fake.email()\n",
    "        password = fake.sha256(raw_output=False)  # Random SHA-256 hash for password\n",
    "        first_name = fake.first_name()\n",
    "        last_name = fake.last_name()\n",
    "        age = random.randint(18, 100)  # Random age between 18 and 100\n",
    "\n",
    "        # Write the data row\n",
    "        writer.writerow([email, password, first_name, last_name, age])\n",
    "\n",
    "print(f'Data successfully written to {filename}')\n"
   ]
  }
 ],
 "metadata": {
  "kernelspec": {
   "display_name": "Python 3",
   "language": "python",
   "name": "python3"
  },
  "language_info": {
   "codemirror_mode": {
    "name": "ipython",
    "version": 3
   },
   "file_extension": ".py",
   "mimetype": "text/x-python",
   "name": "python",
   "nbconvert_exporter": "python",
   "pygments_lexer": "ipython3",
   "version": "3.11.8"
  }
 },
 "nbformat": 4,
 "nbformat_minor": 2
}
