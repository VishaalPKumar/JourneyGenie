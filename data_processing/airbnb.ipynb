{
 "cells": [
  {
   "cell_type": "code",
   "execution_count": 1,
   "metadata": {},
   "outputs": [],
   "source": [
    "import pandas as pd\n",
    "import numpy as np\n",
    "import requests"
   ]
  },
  {
   "cell_type": "markdown",
   "metadata": {},
   "source": [
    "# Airbnb Data"
   ]
  },
  {
   "cell_type": "markdown",
   "metadata": {},
   "source": [
    "Load data"
   ]
  },
  {
   "cell_type": "code",
   "execution_count": 6,
   "metadata": {},
   "outputs": [
    {
     "name": "stderr",
     "output_type": "stream",
     "text": [
      "/var/folders/69/1v31mx4d41dfykdhkv6_0m9m0000gn/T/ipykernel_47682/4077464201.py:1: DtypeWarning: Columns (4) have mixed types. Specify dtype option on import or set low_memory=False.\n",
      "  airbnb_df_2023 = pd.read_csv('data/AB_US_2023.csv')\n",
      "/var/folders/69/1v31mx4d41dfykdhkv6_0m9m0000gn/T/ipykernel_47682/4077464201.py:2: DtypeWarning: Columns (4) have mixed types. Specify dtype option on import or set low_memory=False.\n",
      "  airbnb_df_2020 = pd.read_csv('data/AB_US_2020.csv')\n"
     ]
    }
   ],
   "source": [
    "airbnb_df_2023 = pd.read_csv('data/AB_US_2023.csv')\n",
    "airbnb_df_2020 = pd.read_csv('data/AB_US_2020.csv')\n",
    "airbnb_df = pd.concat([airbnb_df_2023, airbnb_df_2020])\n",
    "airbnb_df = airbnb_df.drop_duplicates(subset=['id'], keep='first')"
   ]
  },
  {
   "cell_type": "code",
   "execution_count": 7,
   "metadata": {},
   "outputs": [
    {
     "data": {
      "text/html": [
       "<div>\n",
       "<style scoped>\n",
       "    .dataframe tbody tr th:only-of-type {\n",
       "        vertical-align: middle;\n",
       "    }\n",
       "\n",
       "    .dataframe tbody tr th {\n",
       "        vertical-align: top;\n",
       "    }\n",
       "\n",
       "    .dataframe thead th {\n",
       "        text-align: right;\n",
       "    }\n",
       "</style>\n",
       "<table border=\"1\" class=\"dataframe\">\n",
       "  <thead>\n",
       "    <tr style=\"text-align: right;\">\n",
       "      <th></th>\n",
       "      <th>id</th>\n",
       "      <th>name</th>\n",
       "      <th>host_id</th>\n",
       "      <th>host_name</th>\n",
       "      <th>neighbourhood_group</th>\n",
       "      <th>neighbourhood</th>\n",
       "      <th>latitude</th>\n",
       "      <th>longitude</th>\n",
       "      <th>room_type</th>\n",
       "      <th>price</th>\n",
       "      <th>minimum_nights</th>\n",
       "      <th>number_of_reviews</th>\n",
       "      <th>last_review</th>\n",
       "      <th>reviews_per_month</th>\n",
       "      <th>calculated_host_listings_count</th>\n",
       "      <th>availability_365</th>\n",
       "      <th>number_of_reviews_ltm</th>\n",
       "      <th>city</th>\n",
       "    </tr>\n",
       "  </thead>\n",
       "  <tbody>\n",
       "    <tr>\n",
       "      <th>0</th>\n",
       "      <td>958</td>\n",
       "      <td>Bright, Modern Garden Unit - 1BR/1BTH</td>\n",
       "      <td>1169</td>\n",
       "      <td>Holly</td>\n",
       "      <td>NaN</td>\n",
       "      <td>Western Addition</td>\n",
       "      <td>37.77028</td>\n",
       "      <td>-122.43317</td>\n",
       "      <td>Entire home/apt</td>\n",
       "      <td>202</td>\n",
       "      <td>2</td>\n",
       "      <td>383</td>\n",
       "      <td>2023-02-19</td>\n",
       "      <td>2.31</td>\n",
       "      <td>1</td>\n",
       "      <td>128</td>\n",
       "      <td>59.0</td>\n",
       "      <td>San Francisco</td>\n",
       "    </tr>\n",
       "    <tr>\n",
       "      <th>1</th>\n",
       "      <td>5858</td>\n",
       "      <td>Creative Sanctuary</td>\n",
       "      <td>8904</td>\n",
       "      <td>Philip And Tania</td>\n",
       "      <td>NaN</td>\n",
       "      <td>Bernal Heights</td>\n",
       "      <td>37.74474</td>\n",
       "      <td>-122.42089</td>\n",
       "      <td>Entire home/apt</td>\n",
       "      <td>235</td>\n",
       "      <td>30</td>\n",
       "      <td>111</td>\n",
       "      <td>2017-08-06</td>\n",
       "      <td>0.66</td>\n",
       "      <td>1</td>\n",
       "      <td>365</td>\n",
       "      <td>0.0</td>\n",
       "      <td>San Francisco</td>\n",
       "    </tr>\n",
       "    <tr>\n",
       "      <th>2</th>\n",
       "      <td>8142</td>\n",
       "      <td>Friendly Room Apt. Style -UCSF/USF - San Franc...</td>\n",
       "      <td>21994</td>\n",
       "      <td>Aaron</td>\n",
       "      <td>NaN</td>\n",
       "      <td>Haight Ashbury</td>\n",
       "      <td>37.76555</td>\n",
       "      <td>-122.45213</td>\n",
       "      <td>Private room</td>\n",
       "      <td>56</td>\n",
       "      <td>32</td>\n",
       "      <td>9</td>\n",
       "      <td>2022-10-27</td>\n",
       "      <td>0.09</td>\n",
       "      <td>13</td>\n",
       "      <td>365</td>\n",
       "      <td>1.0</td>\n",
       "      <td>San Francisco</td>\n",
       "    </tr>\n",
       "    <tr>\n",
       "      <th>3</th>\n",
       "      <td>8339</td>\n",
       "      <td>Historic Alamo Square Victorian</td>\n",
       "      <td>24215</td>\n",
       "      <td>Rosy</td>\n",
       "      <td>NaN</td>\n",
       "      <td>Western Addition</td>\n",
       "      <td>37.77564</td>\n",
       "      <td>-122.43642</td>\n",
       "      <td>Entire home/apt</td>\n",
       "      <td>575</td>\n",
       "      <td>9</td>\n",
       "      <td>28</td>\n",
       "      <td>2019-06-28</td>\n",
       "      <td>0.17</td>\n",
       "      <td>2</td>\n",
       "      <td>365</td>\n",
       "      <td>0.0</td>\n",
       "      <td>San Francisco</td>\n",
       "    </tr>\n",
       "    <tr>\n",
       "      <th>4</th>\n",
       "      <td>8739</td>\n",
       "      <td>Mission Sunshine, with Private Bath</td>\n",
       "      <td>7149</td>\n",
       "      <td>Ivan &amp; Wendy</td>\n",
       "      <td>NaN</td>\n",
       "      <td>Mission</td>\n",
       "      <td>37.76030</td>\n",
       "      <td>-122.42197</td>\n",
       "      <td>Private room</td>\n",
       "      <td>110</td>\n",
       "      <td>1</td>\n",
       "      <td>770</td>\n",
       "      <td>2023-02-25</td>\n",
       "      <td>4.65</td>\n",
       "      <td>2</td>\n",
       "      <td>159</td>\n",
       "      <td>34.0</td>\n",
       "      <td>San Francisco</td>\n",
       "    </tr>\n",
       "  </tbody>\n",
       "</table>\n",
       "</div>"
      ],
      "text/plain": [
       "     id                                               name  host_id  \\\n",
       "0   958              Bright, Modern Garden Unit - 1BR/1BTH     1169   \n",
       "1  5858                                 Creative Sanctuary     8904   \n",
       "2  8142  Friendly Room Apt. Style -UCSF/USF - San Franc...    21994   \n",
       "3  8339                    Historic Alamo Square Victorian    24215   \n",
       "4  8739                Mission Sunshine, with Private Bath     7149   \n",
       "\n",
       "          host_name neighbourhood_group     neighbourhood  latitude  \\\n",
       "0             Holly                 NaN  Western Addition  37.77028   \n",
       "1  Philip And Tania                 NaN    Bernal Heights  37.74474   \n",
       "2             Aaron                 NaN    Haight Ashbury  37.76555   \n",
       "3              Rosy                 NaN  Western Addition  37.77564   \n",
       "4      Ivan & Wendy                 NaN           Mission  37.76030   \n",
       "\n",
       "   longitude        room_type  price  minimum_nights  number_of_reviews  \\\n",
       "0 -122.43317  Entire home/apt    202               2                383   \n",
       "1 -122.42089  Entire home/apt    235              30                111   \n",
       "2 -122.45213     Private room     56              32                  9   \n",
       "3 -122.43642  Entire home/apt    575               9                 28   \n",
       "4 -122.42197     Private room    110               1                770   \n",
       "\n",
       "  last_review  reviews_per_month  calculated_host_listings_count  \\\n",
       "0  2023-02-19               2.31                               1   \n",
       "1  2017-08-06               0.66                               1   \n",
       "2  2022-10-27               0.09                              13   \n",
       "3  2019-06-28               0.17                               2   \n",
       "4  2023-02-25               4.65                               2   \n",
       "\n",
       "   availability_365  number_of_reviews_ltm           city  \n",
       "0               128                   59.0  San Francisco  \n",
       "1               365                    0.0  San Francisco  \n",
       "2               365                    1.0  San Francisco  \n",
       "3               365                    0.0  San Francisco  \n",
       "4               159                   34.0  San Francisco  "
      ]
     },
     "execution_count": 7,
     "metadata": {},
     "output_type": "execute_result"
    }
   ],
   "source": [
    "airbnb_df.head()"
   ]
  },
  {
   "cell_type": "code",
   "execution_count": 8,
   "metadata": {},
   "outputs": [
    {
     "data": {
      "text/plain": [
       "id                                  int64\n",
       "name                               object\n",
       "host_id                             int64\n",
       "host_name                          object\n",
       "neighbourhood_group                object\n",
       "neighbourhood                      object\n",
       "latitude                          float64\n",
       "longitude                         float64\n",
       "room_type                          object\n",
       "price                               int64\n",
       "minimum_nights                      int64\n",
       "number_of_reviews                   int64\n",
       "last_review                        object\n",
       "reviews_per_month                 float64\n",
       "calculated_host_listings_count      int64\n",
       "availability_365                    int64\n",
       "number_of_reviews_ltm             float64\n",
       "city                               object\n",
       "dtype: object"
      ]
     },
     "execution_count": 8,
     "metadata": {},
     "output_type": "execute_result"
    }
   ],
   "source": [
    "# Column names and data types\n",
    "airbnb_df.dtypes"
   ]
  },
  {
   "cell_type": "markdown",
   "metadata": {},
   "source": [
    "## Data Cleaning"
   ]
  },
  {
   "cell_type": "code",
   "execution_count": 9,
   "metadata": {},
   "outputs": [
    {
     "data": {
      "text/plain": [
       "id                                     0\n",
       "name                                  32\n",
       "host_id                                0\n",
       "host_name                             27\n",
       "neighbourhood_group               203520\n",
       "neighbourhood                          0\n",
       "latitude                               0\n",
       "longitude                              0\n",
       "room_type                              0\n",
       "price                                  0\n",
       "minimum_nights                         0\n",
       "number_of_reviews                      0\n",
       "last_review                        83529\n",
       "reviews_per_month                  83529\n",
       "calculated_host_listings_count         0\n",
       "availability_365                       0\n",
       "number_of_reviews_ltm             138106\n",
       "city                                   0\n",
       "dtype: int64"
      ]
     },
     "execution_count": 9,
     "metadata": {},
     "output_type": "execute_result"
    }
   ],
   "source": [
    "# Chec number of missing values for each column\n",
    "airbnb_df.isnull().sum()"
   ]
  },
  {
   "cell_type": "markdown",
   "metadata": {},
   "source": [
    "We can drop neighborhood group column given the number of missing values."
   ]
  },
  {
   "cell_type": "code",
   "execution_count": 10,
   "metadata": {},
   "outputs": [],
   "source": [
    "airbnb_df = airbnb_df.drop(columns=['neighbourhood_group'])"
   ]
  },
  {
   "cell_type": "code",
   "execution_count": 11,
   "metadata": {},
   "outputs": [],
   "source": [
    "# Convert 'last_review' to datetime\n",
    "airbnb_df['last_review'] = pd.to_datetime(airbnb_df['last_review'], format='mixed')\n",
    "# Convert 'host_name' to string\n",
    "airbnb_df['host_name'] = airbnb_df['host_name'].astype(str)\n",
    "# Conver 'name' to string\n",
    "airbnb_df['name'] = airbnb_df['name'].astype(str)\n",
    "# Convert 'neighbourhood' to string\n",
    "airbnb_df['neighbourhood'] = airbnb_df['neighbourhood'].astype(str)\n",
    "# Convert 'room_type' to string\n",
    "airbnb_df['room_type'] = airbnb_df['room_type'].astype(str)\n",
    "# Convert 'city' to string\n",
    "airbnb_df['city'] = airbnb_df['city'].astype(str)\n"
   ]
  },
  {
   "cell_type": "markdown",
   "metadata": {},
   "source": [
    "## Data Exploration"
   ]
  },
  {
   "cell_type": "markdown",
   "metadata": {},
   "source": [
    "Let us try and look at each interesting column to understand the data better."
   ]
  },
  {
   "cell_type": "markdown",
   "metadata": {},
   "source": [
    "1. `id`"
   ]
  },
  {
   "cell_type": "code",
   "execution_count": 12,
   "metadata": {},
   "outputs": [
    {
     "data": {
      "text/plain": [
       "370252"
      ]
     },
     "execution_count": 12,
     "metadata": {},
     "output_type": "execute_result"
    }
   ],
   "source": [
    "# Number of different id's\n",
    "len(airbnb_df['id'].unique())"
   ]
  },
  {
   "cell_type": "markdown",
   "metadata": {},
   "source": [
    "2. `host_id`"
   ]
  },
  {
   "cell_type": "code",
   "execution_count": 13,
   "metadata": {},
   "outputs": [
    {
     "data": {
      "text/plain": [
       "187425"
      ]
     },
     "execution_count": 13,
     "metadata": {},
     "output_type": "execute_result"
    }
   ],
   "source": [
    "# Different hosts\n",
    "len(airbnb_df['host_id'].unique())"
   ]
  },
  {
   "cell_type": "markdown",
   "metadata": {},
   "source": [
    "3. `room_type`"
   ]
  },
  {
   "cell_type": "code",
   "execution_count": 14,
   "metadata": {},
   "outputs": [
    {
     "data": {
      "text/plain": [
       "array(['Entire home/apt', 'Private room', 'Shared room', 'Hotel room'],\n",
       "      dtype=object)"
      ]
     },
     "execution_count": 14,
     "metadata": {},
     "output_type": "execute_result"
    }
   ],
   "source": [
    "# Different room types\n",
    "airbnb_df['room_type'].unique()"
   ]
  },
  {
   "cell_type": "markdown",
   "metadata": {},
   "source": [
    "The data only has 4 room types. "
   ]
  },
  {
   "cell_type": "markdown",
   "metadata": {},
   "source": [
    "4. `price`"
   ]
  },
  {
   "cell_type": "code",
   "execution_count": 15,
   "metadata": {},
   "outputs": [
    {
     "data": {
      "text/plain": [
       "count    370252.000000\n",
       "mean        250.382218\n",
       "std         904.014004\n",
       "min           0.000000\n",
       "25%          85.000000\n",
       "50%         140.000000\n",
       "75%         239.000000\n",
       "max      100000.000000\n",
       "Name: price, dtype: float64"
      ]
     },
     "execution_count": 15,
     "metadata": {},
     "output_type": "execute_result"
    }
   ],
   "source": [
    "# Analyze the 'price' column\n",
    "airbnb_df['price'].describe()"
   ]
  },
  {
   "cell_type": "markdown",
   "metadata": {},
   "source": [
    "5. `minimum_nights`"
   ]
  },
  {
   "cell_type": "code",
   "execution_count": 16,
   "metadata": {},
   "outputs": [
    {
     "data": {
      "text/plain": [
       "count    3.702520e+05\n",
       "mean     2.821838e+02\n",
       "std      1.643430e+05\n",
       "min      1.000000e+00\n",
       "25%      1.000000e+00\n",
       "50%      3.000000e+00\n",
       "75%      3.000000e+01\n",
       "max      1.000000e+08\n",
       "Name: minimum_nights, dtype: float64"
      ]
     },
     "execution_count": 16,
     "metadata": {},
     "output_type": "execute_result"
    }
   ],
   "source": [
    "airbnb_df['minimum_nights'].describe()"
   ]
  },
  {
   "cell_type": "markdown",
   "metadata": {},
   "source": [
    "6. `number_of_reviews`"
   ]
  },
  {
   "cell_type": "code",
   "execution_count": 17,
   "metadata": {},
   "outputs": [
    {
     "data": {
      "text/plain": [
       "count    370252.000000\n",
       "mean         35.958293\n",
       "std          72.239527\n",
       "min           0.000000\n",
       "25%           1.000000\n",
       "50%           7.000000\n",
       "75%          37.000000\n",
       "max        3091.000000\n",
       "Name: number_of_reviews, dtype: float64"
      ]
     },
     "execution_count": 17,
     "metadata": {},
     "output_type": "execute_result"
    }
   ],
   "source": [
    "airbnb_df['number_of_reviews'].describe()"
   ]
  },
  {
   "cell_type": "markdown",
   "metadata": {},
   "source": [
    "7. `city`"
   ]
  },
  {
   "cell_type": "code",
   "execution_count": 18,
   "metadata": {},
   "outputs": [
    {
     "data": {
      "text/plain": [
       "array(['San Francisco', 'Washington D.C.', 'Oakland', 'Jersey City',\n",
       "       'New Orleans', 'Los Angeles', 'New York City', 'Cambridge',\n",
       "       'Santa Clara County', 'Asheville', 'Salem', 'Columbus',\n",
       "       'Rhode Island', 'San Diego', 'Nashville', 'Santa Cruz County',\n",
       "       'Denver', 'Chicago', 'Austin', 'Pacific Grove', 'Portland',\n",
       "       'Seattle', 'Twin Cities MSA', 'Broward County', 'Clark County',\n",
       "       'Boston', 'San Mateo County', 'Hawaii', 'San Clara Country'],\n",
       "      dtype=object)"
      ]
     },
     "execution_count": 18,
     "metadata": {},
     "output_type": "execute_result"
    }
   ],
   "source": [
    "airbnb_df['city'].unique()"
   ]
  },
  {
   "cell_type": "code",
   "execution_count": 19,
   "metadata": {},
   "outputs": [
    {
     "data": {
      "text/plain": [
       "29"
      ]
     },
     "execution_count": 19,
     "metadata": {},
     "output_type": "execute_result"
    }
   ],
   "source": [
    "len(airbnb_df['city'].unique())"
   ]
  },
  {
   "cell_type": "markdown",
   "metadata": {},
   "source": [
    "## Data Preprocessing"
   ]
  },
  {
   "cell_type": "markdown",
   "metadata": {},
   "source": [
    "Get the census tract column for each listing."
   ]
  },
  {
   "cell_type": "code",
   "execution_count": 20,
   "metadata": {},
   "outputs": [],
   "source": [
    "def get_census_tract(lat, long):\n",
    "    url = f\"https://geo.fcc.gov/api/census/block/find?latitude={lat}&longitude={long}&format=json\"\n",
    "    response = requests.get(url)\n",
    "    if response.status_code == 200:\n",
    "        data = response.json()\n",
    "        #county = data.get('County').get('name')\n",
    "        #state = data.get('State').get('name')\n",
    "        return data.get('Block').get('FIPS')\n",
    "    else:\n",
    "        return None"
   ]
  },
  {
   "cell_type": "code",
   "execution_count": 2,
   "metadata": {},
   "outputs": [
    {
     "ename": "NameError",
     "evalue": "name 'airbnb_df' is not defined",
     "output_type": "error",
     "traceback": [
      "\u001b[0;31m---------------------------------------------------------------------------\u001b[0m",
      "\u001b[0;31mNameError\u001b[0m                                 Traceback (most recent call last)",
      "Cell \u001b[0;32mIn[2], line 1\u001b[0m\n\u001b[0;32m----> 1\u001b[0m airbnb_df[\u001b[38;5;124m'\u001b[39m\u001b[38;5;124mcensus_tract\u001b[39m\u001b[38;5;124m'\u001b[39m] \u001b[38;5;241m=\u001b[39m \u001b[43mairbnb_df\u001b[49m\u001b[38;5;241m.\u001b[39mapply(\u001b[38;5;28;01mlambda\u001b[39;00m row: get_census_tract(row[\u001b[38;5;124m'\u001b[39m\u001b[38;5;124mlatitude\u001b[39m\u001b[38;5;124m'\u001b[39m], row[\u001b[38;5;124m'\u001b[39m\u001b[38;5;124mlongitude\u001b[39m\u001b[38;5;124m'\u001b[39m]), axis\u001b[38;5;241m=\u001b[39m\u001b[38;5;241m1\u001b[39m)\n",
      "\u001b[0;31mNameError\u001b[0m: name 'airbnb_df' is not defined"
     ]
    }
   ],
   "source": [
    "airbnb_df['census_tract'] = airbnb_df.apply(lambda row: get_census_tract(row['latitude'], row['longitude']), axis=1)"
   ]
  },
  {
   "cell_type": "code",
   "execution_count": null,
   "metadata": {},
   "outputs": [],
   "source": [
    "# Export results to avoid computing census tract again\n",
    "airbnb_df.to_csv(path_or_buf=\"../data/airbnb_tract.csv\", na_rep=\"null\")"
   ]
  },
  {
   "cell_type": "code",
   "execution_count": 3,
   "metadata": {},
   "outputs": [],
   "source": [
    "# Load in the data\n",
    "dat = pd.read_csv(\"data/airbnb_tract.csv\", dtype = { 'census_tract' : str })"
   ]
  },
  {
   "cell_type": "code",
   "execution_count": 4,
   "metadata": {},
   "outputs": [
    {
     "data": {
      "text/plain": [
       "Index(['Unnamed: 0', 'id', 'name', 'host_id', 'host_name', 'neighbourhood',\n",
       "       'latitude', 'longitude', 'room_type', 'price', 'minimum_nights',\n",
       "       'number_of_reviews', 'last_review', 'reviews_per_month',\n",
       "       'calculated_host_listings_count', 'availability_365',\n",
       "       'number_of_reviews_ltm', 'city', 'census_tract'],\n",
       "      dtype='object')"
      ]
     },
     "execution_count": 4,
     "metadata": {},
     "output_type": "execute_result"
    }
   ],
   "source": [
    "dat.columns"
   ]
  },
  {
   "cell_type": "markdown",
   "metadata": {},
   "source": [
    "``` Host Relation ```"
   ]
  },
  {
   "cell_type": "code",
   "execution_count": 5,
   "metadata": {},
   "outputs": [],
   "source": [
    "h = dat[ [ \"host_id\" , \"host_name\" ] ]\n",
    "hp = h.drop_duplicates( subset = \"host_id\" ) \n",
    "h_names = { \n",
    "    \"host_name\" : \"name\"\n",
    "}\n",
    "_hosts = hp.rename( mapper = h_names, axis = 'columns' )\n",
    "hosts = _hosts.reset_index( drop = \"True\" )"
   ]
  },
  {
   "cell_type": "markdown",
   "metadata": {},
   "source": [
    "``` Room Relation ```"
   ]
  },
  {
   "cell_type": "code",
   "execution_count": 6,
   "metadata": {},
   "outputs": [],
   "source": [
    "# Pull out room relation\n",
    "\n",
    "# Make IDs for room type\n",
    "_room_types = dat[ 'room_type' ].unique()\n",
    "room_types = {}\n",
    "for i, t in enumerate(_room_types) :\n",
    "    room_types[t] = i \n",
    "\n",
    "# Remap room type to ids \n",
    "mapped_rooms = dat.copy( deep = True ) \n",
    "mapped_rooms['census_tract'] = mapped_rooms['census_tract'].astype(str)\n",
    "mapped_rooms[ 'room_type_id' ] = mapped_rooms[ 'room_type' ].map(lambda r : room_types[r])\n",
    "\n",
    "# Get out unique rooms to their own relation\n",
    "r = mapped_rooms[ ['room_type_id' , 'room_type' ]]\n",
    "r_names = {\n",
    "    'room_type' : 'room_desc'\n",
    "}\n",
    "r1 = r.rename( mapper = r_names, axis = 'columns' )\n",
    "_rooms = r1.drop_duplicates( subset = 'room_type_id' )\n",
    "rooms = _rooms.reset_index( drop = \"True\" )"
   ]
  },
  {
   "cell_type": "markdown",
   "metadata": {},
   "source": [
    "``` Listing Relation ```"
   ]
  },
  {
   "cell_type": "code",
   "execution_count": 7,
   "metadata": {},
   "outputs": [],
   "source": [
    "listing_drops = [ \"name\", \"name\", \"host_name\", \"neighbourhood\", \"latitude\", \n",
    "                  \"longitude\", \"room_type\", \"last_review\", \"reviews_per_month\",\n",
    "                  \"calculated_host_listings_count\", \"number_of_reviews_ltm\", \"city\",\n",
    "                ]\n",
    "\n",
    "listing_drops = []  # FOR TESTING\n",
    "\n",
    "l_names = {\n",
    "    \"availability_365\" : \"days_available_year\",\n",
    "}\n",
    "\n",
    "l1 = mapped_rooms.drop( labels = listing_drops, axis = 'columns' )\n",
    "l2 = l1.rename( mapper = l_names, axis = 'columns' ) \n",
    "\n",
    "_tract_remap = l2.copy( deep=True )\n",
    "_tract_remap['tract_join'] = _tract_remap['census_tract'].map(lambda id : id[0:5])\n",
    "tract_remap = _tract_remap.drop( labels = ['census_tract'], axis = 'columns') "
   ]
  },
  {
   "cell_type": "code",
   "execution_count": 8,
   "metadata": {},
   "outputs": [],
   "source": [
    "def census_tract_map(id) :  \n",
    "    if len(id) == 10 :\n",
    "        return \"0\" + id[0:4]\n",
    "    else :\n",
    "        return id[0:5]"
   ]
  },
  {
   "cell_type": "code",
   "execution_count": 9,
   "metadata": {},
   "outputs": [],
   "source": [
    "# Bring in census data\n",
    "c = pd.read_csv(\"../conv/census_conv.csv\", dtype = { \"TractId\" : str , \"County\" : str})"
   ]
  },
  {
   "cell_type": "code",
   "execution_count": 10,
   "metadata": {},
   "outputs": [],
   "source": [
    "# make sure the tractid is 11 characters: pad the front with 0s\n",
    "c['TractId'] = c['TractId'].map(lambda id : id.zfill(11))"
   ]
  },
  {
   "cell_type": "code",
   "execution_count": 11,
   "metadata": {},
   "outputs": [],
   "source": [
    "c1 = c[ [ 'TractId', 'County' , 'State' ]]\n",
    "c2 = c1.rename(mapper = { 'TractId' : 'census_tract' , 'County' : 'county' , 'State' : 'state' }, axis = 'columns')\n",
    "c3 = c2.copy(deep=True)\n",
    "c3['tract_join'] = c3['census_tract'].map(lambda t : census_tract_map(t))\n",
    "census_df = c3.drop_duplicates( subset= [ 'tract_join' ] )"
   ]
  },
  {
   "cell_type": "code",
   "execution_count": 12,
   "metadata": {},
   "outputs": [],
   "source": [
    "merge_census = tract_remap.merge(census_df, on='tract_join', how='inner')"
   ]
  },
  {
   "cell_type": "code",
   "execution_count": 13,
   "metadata": {},
   "outputs": [
    {
     "data": {
      "text/plain": [
       "370247"
      ]
     },
     "execution_count": 13,
     "metadata": {},
     "output_type": "execute_result"
    }
   ],
   "source": [
    "len(merge_census)"
   ]
  },
  {
   "cell_type": "code",
   "execution_count": 14,
   "metadata": {},
   "outputs": [],
   "source": [
    "# Bring in county name - county_id relation \n",
    "county_conv = pd.read_csv(\"../conv/county_conv.csv\", dtype = { \"state_id\" : str })"
   ]
  },
  {
   "cell_type": "code",
   "execution_count": 15,
   "metadata": {},
   "outputs": [],
   "source": [
    "# Append County in airbnb data to align with zip code data\n",
    "merge_aux = merge_census.copy( deep = True )\n",
    "merge_aux['county'] = merge_aux['county'].map(lambda v : v + ' County')"
   ]
  },
  {
   "cell_type": "code",
   "execution_count": 16,
   "metadata": {},
   "outputs": [],
   "source": [
    "_merge_zip = merge_aux.merge(county_conv, on=['county', 'state'], how='inner')\n",
    "merge_zip = _merge_zip.drop_duplicates(subset='id')"
   ]
  },
  {
   "cell_type": "code",
   "execution_count": 21,
   "metadata": {},
   "outputs": [
    {
     "data": {
      "text/plain": [
       "Index(['Unnamed: 0_x', 'id', 'name', 'host_id', 'host_name', 'neighbourhood',\n",
       "       'latitude', 'longitude', 'room_type', 'price', 'minimum_nights',\n",
       "       'number_of_reviews', 'last_review', 'reviews_per_month',\n",
       "       'calculated_host_listings_count', 'days_available_year',\n",
       "       'number_of_reviews_ltm', 'city', 'room_type_id', 'tract_join',\n",
       "       'census_tract', 'county', 'state', 'Unnamed: 0_y', 'county_id',\n",
       "       'city_id', 'state_id'],\n",
       "      dtype='object')"
      ]
     },
     "execution_count": 21,
     "metadata": {},
     "output_type": "execute_result"
    }
   ],
   "source": [
    "merge_zip.columns"
   ]
  },
  {
   "cell_type": "code",
   "execution_count": 22,
   "metadata": {},
   "outputs": [
    {
     "data": {
      "text/html": [
       "<div>\n",
       "<style scoped>\n",
       "    .dataframe tbody tr th:only-of-type {\n",
       "        vertical-align: middle;\n",
       "    }\n",
       "\n",
       "    .dataframe tbody tr th {\n",
       "        vertical-align: top;\n",
       "    }\n",
       "\n",
       "    .dataframe thead th {\n",
       "        text-align: right;\n",
       "    }\n",
       "</style>\n",
       "<table border=\"1\" class=\"dataframe\">\n",
       "  <thead>\n",
       "    <tr style=\"text-align: right;\">\n",
       "      <th></th>\n",
       "      <th>Unnamed: 0_x</th>\n",
       "      <th>id</th>\n",
       "      <th>name</th>\n",
       "      <th>host_id</th>\n",
       "      <th>host_name</th>\n",
       "      <th>neighbourhood</th>\n",
       "      <th>latitude</th>\n",
       "      <th>longitude</th>\n",
       "      <th>room_type</th>\n",
       "      <th>price</th>\n",
       "      <th>...</th>\n",
       "      <th>city</th>\n",
       "      <th>room_type_id</th>\n",
       "      <th>tract_join</th>\n",
       "      <th>census_tract</th>\n",
       "      <th>county</th>\n",
       "      <th>state</th>\n",
       "      <th>Unnamed: 0_y</th>\n",
       "      <th>county_id</th>\n",
       "      <th>city_id</th>\n",
       "      <th>state_id</th>\n",
       "    </tr>\n",
       "  </thead>\n",
       "  <tbody>\n",
       "    <tr>\n",
       "      <th>0</th>\n",
       "      <td>0</td>\n",
       "      <td>958</td>\n",
       "      <td>Bright, Modern Garden Unit - 1BR/1BTH</td>\n",
       "      <td>1169</td>\n",
       "      <td>Holly</td>\n",
       "      <td>Western Addition</td>\n",
       "      <td>37.77028</td>\n",
       "      <td>-122.43317</td>\n",
       "      <td>Entire home/apt</td>\n",
       "      <td>202</td>\n",
       "      <td>...</td>\n",
       "      <td>San Francisco</td>\n",
       "      <td>0</td>\n",
       "      <td>06075</td>\n",
       "      <td>06075010100</td>\n",
       "      <td>San Francisco County</td>\n",
       "      <td>California</td>\n",
       "      <td>28452</td>\n",
       "      <td>6075.0</td>\n",
       "      <td>23790</td>\n",
       "      <td>06</td>\n",
       "    </tr>\n",
       "    <tr>\n",
       "      <th>2</th>\n",
       "      <td>1</td>\n",
       "      <td>5858</td>\n",
       "      <td>Creative Sanctuary</td>\n",
       "      <td>8904</td>\n",
       "      <td>Philip And Tania</td>\n",
       "      <td>Bernal Heights</td>\n",
       "      <td>37.74474</td>\n",
       "      <td>-122.42089</td>\n",
       "      <td>Entire home/apt</td>\n",
       "      <td>235</td>\n",
       "      <td>...</td>\n",
       "      <td>San Francisco</td>\n",
       "      <td>0</td>\n",
       "      <td>06075</td>\n",
       "      <td>06075010100</td>\n",
       "      <td>San Francisco County</td>\n",
       "      <td>California</td>\n",
       "      <td>28452</td>\n",
       "      <td>6075.0</td>\n",
       "      <td>23790</td>\n",
       "      <td>06</td>\n",
       "    </tr>\n",
       "    <tr>\n",
       "      <th>4</th>\n",
       "      <td>2</td>\n",
       "      <td>8142</td>\n",
       "      <td>Friendly Room Apt. Style -UCSF/USF - San Franc...</td>\n",
       "      <td>21994</td>\n",
       "      <td>Aaron</td>\n",
       "      <td>Haight Ashbury</td>\n",
       "      <td>37.76555</td>\n",
       "      <td>-122.45213</td>\n",
       "      <td>Private room</td>\n",
       "      <td>56</td>\n",
       "      <td>...</td>\n",
       "      <td>San Francisco</td>\n",
       "      <td>1</td>\n",
       "      <td>06075</td>\n",
       "      <td>06075010100</td>\n",
       "      <td>San Francisco County</td>\n",
       "      <td>California</td>\n",
       "      <td>28452</td>\n",
       "      <td>6075.0</td>\n",
       "      <td>23790</td>\n",
       "      <td>06</td>\n",
       "    </tr>\n",
       "    <tr>\n",
       "      <th>6</th>\n",
       "      <td>3</td>\n",
       "      <td>8339</td>\n",
       "      <td>Historic Alamo Square Victorian</td>\n",
       "      <td>24215</td>\n",
       "      <td>Rosy</td>\n",
       "      <td>Western Addition</td>\n",
       "      <td>37.77564</td>\n",
       "      <td>-122.43642</td>\n",
       "      <td>Entire home/apt</td>\n",
       "      <td>575</td>\n",
       "      <td>...</td>\n",
       "      <td>San Francisco</td>\n",
       "      <td>0</td>\n",
       "      <td>06075</td>\n",
       "      <td>06075010100</td>\n",
       "      <td>San Francisco County</td>\n",
       "      <td>California</td>\n",
       "      <td>28452</td>\n",
       "      <td>6075.0</td>\n",
       "      <td>23790</td>\n",
       "      <td>06</td>\n",
       "    </tr>\n",
       "    <tr>\n",
       "      <th>8</th>\n",
       "      <td>4</td>\n",
       "      <td>8739</td>\n",
       "      <td>Mission Sunshine, with Private Bath</td>\n",
       "      <td>7149</td>\n",
       "      <td>Ivan &amp; Wendy</td>\n",
       "      <td>Mission</td>\n",
       "      <td>37.76030</td>\n",
       "      <td>-122.42197</td>\n",
       "      <td>Private room</td>\n",
       "      <td>110</td>\n",
       "      <td>...</td>\n",
       "      <td>San Francisco</td>\n",
       "      <td>1</td>\n",
       "      <td>06075</td>\n",
       "      <td>06075010100</td>\n",
       "      <td>San Francisco County</td>\n",
       "      <td>California</td>\n",
       "      <td>28452</td>\n",
       "      <td>6075.0</td>\n",
       "      <td>23790</td>\n",
       "      <td>06</td>\n",
       "    </tr>\n",
       "  </tbody>\n",
       "</table>\n",
       "<p>5 rows × 27 columns</p>\n",
       "</div>"
      ],
      "text/plain": [
       "   Unnamed: 0_x    id                                               name  \\\n",
       "0             0   958              Bright, Modern Garden Unit - 1BR/1BTH   \n",
       "2             1  5858                                 Creative Sanctuary   \n",
       "4             2  8142  Friendly Room Apt. Style -UCSF/USF - San Franc...   \n",
       "6             3  8339                    Historic Alamo Square Victorian   \n",
       "8             4  8739                Mission Sunshine, with Private Bath   \n",
       "\n",
       "   host_id         host_name     neighbourhood  latitude  longitude  \\\n",
       "0     1169             Holly  Western Addition  37.77028 -122.43317   \n",
       "2     8904  Philip And Tania    Bernal Heights  37.74474 -122.42089   \n",
       "4    21994             Aaron    Haight Ashbury  37.76555 -122.45213   \n",
       "6    24215              Rosy  Western Addition  37.77564 -122.43642   \n",
       "8     7149      Ivan & Wendy           Mission  37.76030 -122.42197   \n",
       "\n",
       "         room_type  price  ...           city  room_type_id tract_join  \\\n",
       "0  Entire home/apt    202  ...  San Francisco             0      06075   \n",
       "2  Entire home/apt    235  ...  San Francisco             0      06075   \n",
       "4     Private room     56  ...  San Francisco             1      06075   \n",
       "6  Entire home/apt    575  ...  San Francisco             0      06075   \n",
       "8     Private room    110  ...  San Francisco             1      06075   \n",
       "\n",
       "   census_tract                county       state  Unnamed: 0_y county_id  \\\n",
       "0   06075010100  San Francisco County  California         28452    6075.0   \n",
       "2   06075010100  San Francisco County  California         28452    6075.0   \n",
       "4   06075010100  San Francisco County  California         28452    6075.0   \n",
       "6   06075010100  San Francisco County  California         28452    6075.0   \n",
       "8   06075010100  San Francisco County  California         28452    6075.0   \n",
       "\n",
       "   city_id state_id  \n",
       "0    23790       06  \n",
       "2    23790       06  \n",
       "4    23790       06  \n",
       "6    23790       06  \n",
       "8    23790       06  \n",
       "\n",
       "[5 rows x 27 columns]"
      ]
     },
     "execution_count": 22,
     "metadata": {},
     "output_type": "execute_result"
    }
   ],
   "source": [
    "merge_zip.head()"
   ]
  },
  {
   "cell_type": "code",
   "execution_count": 18,
   "metadata": {},
   "outputs": [],
   "source": [
    "# Drop extra columns after merge \n",
    "listing_cols = [\n",
    "    'id', 'host_id', 'price', 'minimum_nights', \n",
    "    'number_of_reviews', 'days_available_year', 'room_type_id',\n",
    "    'city_id', 'state_id', 'county_id', 'census_tract', 'name'\n",
    "]\n",
    "_listing = merge_zip[listing_cols]\n",
    "listing_rename = {\n",
    "    'id' : 'listing_id',\n",
    "    'census_tract' : 'tract_id',\n",
    "    'name' : 'description'\n",
    "}\n",
    "_listing1 = _listing.rename( mapper = listing_rename, axis = 'columns' )\n",
    "_listing2 = _listing1.dropna( axis = 'index', \n",
    "                             subset = [ 'price',\n",
    "                                        'room_type_id',\n",
    "                                        'minimum_nights',\n",
    "                                        'number_of_reviews',\n",
    "                                        'days_available_year'])\n",
    "listing = _listing2.reset_index(drop=True)"
   ]
  },
  {
   "cell_type": "code",
   "execution_count": 19,
   "metadata": {},
   "outputs": [
    {
     "data": {
      "text/html": [
       "<div>\n",
       "<style scoped>\n",
       "    .dataframe tbody tr th:only-of-type {\n",
       "        vertical-align: middle;\n",
       "    }\n",
       "\n",
       "    .dataframe tbody tr th {\n",
       "        vertical-align: top;\n",
       "    }\n",
       "\n",
       "    .dataframe thead th {\n",
       "        text-align: right;\n",
       "    }\n",
       "</style>\n",
       "<table border=\"1\" class=\"dataframe\">\n",
       "  <thead>\n",
       "    <tr style=\"text-align: right;\">\n",
       "      <th></th>\n",
       "      <th>listing_id</th>\n",
       "      <th>host_id</th>\n",
       "      <th>price</th>\n",
       "      <th>minimum_nights</th>\n",
       "      <th>number_of_reviews</th>\n",
       "      <th>days_available_year</th>\n",
       "      <th>room_type_id</th>\n",
       "      <th>city_id</th>\n",
       "      <th>state_id</th>\n",
       "      <th>county_id</th>\n",
       "      <th>tract_id</th>\n",
       "    </tr>\n",
       "  </thead>\n",
       "  <tbody>\n",
       "    <tr>\n",
       "      <th>0</th>\n",
       "      <td>958</td>\n",
       "      <td>1169</td>\n",
       "      <td>202</td>\n",
       "      <td>2</td>\n",
       "      <td>383</td>\n",
       "      <td>128</td>\n",
       "      <td>0</td>\n",
       "      <td>23790</td>\n",
       "      <td>06</td>\n",
       "      <td>6075.0</td>\n",
       "      <td>06075010100</td>\n",
       "    </tr>\n",
       "    <tr>\n",
       "      <th>1</th>\n",
       "      <td>5858</td>\n",
       "      <td>8904</td>\n",
       "      <td>235</td>\n",
       "      <td>30</td>\n",
       "      <td>111</td>\n",
       "      <td>365</td>\n",
       "      <td>0</td>\n",
       "      <td>23790</td>\n",
       "      <td>06</td>\n",
       "      <td>6075.0</td>\n",
       "      <td>06075010100</td>\n",
       "    </tr>\n",
       "    <tr>\n",
       "      <th>2</th>\n",
       "      <td>8142</td>\n",
       "      <td>21994</td>\n",
       "      <td>56</td>\n",
       "      <td>32</td>\n",
       "      <td>9</td>\n",
       "      <td>365</td>\n",
       "      <td>1</td>\n",
       "      <td>23790</td>\n",
       "      <td>06</td>\n",
       "      <td>6075.0</td>\n",
       "      <td>06075010100</td>\n",
       "    </tr>\n",
       "    <tr>\n",
       "      <th>3</th>\n",
       "      <td>8339</td>\n",
       "      <td>24215</td>\n",
       "      <td>575</td>\n",
       "      <td>9</td>\n",
       "      <td>28</td>\n",
       "      <td>365</td>\n",
       "      <td>0</td>\n",
       "      <td>23790</td>\n",
       "      <td>06</td>\n",
       "      <td>6075.0</td>\n",
       "      <td>06075010100</td>\n",
       "    </tr>\n",
       "    <tr>\n",
       "      <th>4</th>\n",
       "      <td>8739</td>\n",
       "      <td>7149</td>\n",
       "      <td>110</td>\n",
       "      <td>1</td>\n",
       "      <td>770</td>\n",
       "      <td>159</td>\n",
       "      <td>1</td>\n",
       "      <td>23790</td>\n",
       "      <td>06</td>\n",
       "      <td>6075.0</td>\n",
       "      <td>06075010100</td>\n",
       "    </tr>\n",
       "  </tbody>\n",
       "</table>\n",
       "</div>"
      ],
      "text/plain": [
       "   listing_id  host_id  price  minimum_nights  number_of_reviews  \\\n",
       "0         958     1169    202               2                383   \n",
       "1        5858     8904    235              30                111   \n",
       "2        8142    21994     56              32                  9   \n",
       "3        8339    24215    575               9                 28   \n",
       "4        8739     7149    110               1                770   \n",
       "\n",
       "   days_available_year  room_type_id  city_id state_id  county_id     tract_id  \n",
       "0                  128             0    23790       06     6075.0  06075010100  \n",
       "1                  365             0    23790       06     6075.0  06075010100  \n",
       "2                  365             1    23790       06     6075.0  06075010100  \n",
       "3                  365             0    23790       06     6075.0  06075010100  \n",
       "4                  159             1    23790       06     6075.0  06075010100  "
      ]
     },
     "execution_count": 19,
     "metadata": {},
     "output_type": "execute_result"
    }
   ],
   "source": [
    "listing.head()"
   ]
  },
  {
   "cell_type": "code",
   "execution_count": 20,
   "metadata": {},
   "outputs": [],
   "source": [
    "# results -- change path and run to download csv file\n",
    "\n",
    "listing.to_csv('../data_final/listings.csv', index=False)\n",
    "\n",
    "rooms.to_csv('../data_final/rooms.csv', index=False)\n",
    "\n",
    "hosts.to_csv('../data_final/hosts.csv', index=False)"
   ]
  }
 ],
 "metadata": {
  "kernelspec": {
   "display_name": "Python 3",
   "language": "python",
   "name": "python3"
  },
  "language_info": {
   "codemirror_mode": {
    "name": "ipython",
    "version": 3
   },
   "file_extension": ".py",
   "mimetype": "text/x-python",
   "name": "python",
   "nbconvert_exporter": "python",
   "pygments_lexer": "ipython3",
   "version": "3.10.13"
  }
 },
 "nbformat": 4,
 "nbformat_minor": 2
}
