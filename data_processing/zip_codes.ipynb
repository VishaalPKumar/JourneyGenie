{
 "cells": [
  {
   "cell_type": "code",
   "execution_count": 168,
   "metadata": {},
   "outputs": [],
   "source": [
    "import pandas as pd\n",
    "import numpy as np"
   ]
  },
  {
   "cell_type": "markdown",
   "metadata": {},
   "source": [
    "# Zip Codes Dataset"
   ]
  },
  {
   "cell_type": "code",
   "execution_count": 169,
   "metadata": {},
   "outputs": [],
   "source": [
    "df = pd.read_csv('data/zip_codes.csv')\n",
    "state_abbr = pd.read_csv('data/state_abbr.csv')"
   ]
  },
  {
   "cell_type": "code",
   "execution_count": 170,
   "metadata": {},
   "outputs": [
    {
     "data": {
      "text/plain": [
       "array(['NY', 'PR', 'VI', 'MA', 'RI', 'NH', 'ME', 'VT', 'CT', 'NJ', 'AE',\n",
       "       'PA', 'DE', 'DC', 'VA', 'MD', 'WV', 'NC', 'SC', 'GA', 'FL', 'AA',\n",
       "       'AL', 'TN', 'MS', 'KY', 'OH', 'IN', 'MI', 'IA', 'WI', 'MN', 'SD',\n",
       "       'ND', 'MT', 'IL', 'MO', 'KS', 'NE', 'LA', 'AR', 'OK', 'TX', 'CO',\n",
       "       'WY', 'ID', 'UT', 'AZ', 'NM', 'NV', 'CA', 'AP', 'HI', 'AS', 'GU',\n",
       "       'PW', 'FM', 'MP', 'MH', 'OR', 'WA', 'AK'], dtype=object)"
      ]
     },
     "execution_count": 170,
     "metadata": {},
     "output_type": "execute_result"
    }
   ],
   "source": [
    "df.state.unique()"
   ]
  },
  {
   "cell_type": "code",
   "execution_count": 171,
   "metadata": {},
   "outputs": [
    {
     "data": {
      "text/plain": [
       "Index(['zip', 'type', 'decommissioned', 'primary_city', 'acceptable_cities',\n",
       "       'unacceptable_cities', 'state', 'county', 'timezone', 'area_codes',\n",
       "       'world_region', 'country', 'latitude', 'longitude',\n",
       "       'irs_estimated_population'],\n",
       "      dtype='object')"
      ]
     },
     "execution_count": 171,
     "metadata": {},
     "output_type": "execute_result"
    }
   ],
   "source": [
    "df.columns"
   ]
  },
  {
   "cell_type": "code",
   "execution_count": 172,
   "metadata": {},
   "outputs": [
    {
     "data": {
      "text/plain": [
       "29917"
      ]
     },
     "execution_count": 172,
     "metadata": {},
     "output_type": "execute_result"
    }
   ],
   "source": [
    "city_county = df[['primary_city', 'county', 'state']].dropna()\n",
    "city_county['county'] = city_county['county'].str.title()\n",
    "city_county.drop_duplicates(inplace=True)\n",
    "city_county.head()\n",
    "len(city_county)"
   ]
  },
  {
   "cell_type": "code",
   "execution_count": 173,
   "metadata": {},
   "outputs": [
    {
     "data": {
      "text/html": [
       "<div>\n",
       "<style scoped>\n",
       "    .dataframe tbody tr th:only-of-type {\n",
       "        vertical-align: middle;\n",
       "    }\n",
       "\n",
       "    .dataframe tbody tr th {\n",
       "        vertical-align: top;\n",
       "    }\n",
       "\n",
       "    .dataframe thead th {\n",
       "        text-align: right;\n",
       "    }\n",
       "</style>\n",
       "<table border=\"1\" class=\"dataframe\">\n",
       "  <thead>\n",
       "    <tr style=\"text-align: right;\">\n",
       "      <th></th>\n",
       "      <th>primary_city</th>\n",
       "      <th>county</th>\n",
       "      <th>state</th>\n",
       "      <th>State</th>\n",
       "      <th>Abbreviation</th>\n",
       "    </tr>\n",
       "  </thead>\n",
       "  <tbody>\n",
       "    <tr>\n",
       "      <th>0</th>\n",
       "      <td>Holtsville</td>\n",
       "      <td>Suffolk County</td>\n",
       "      <td>NY</td>\n",
       "      <td>New York</td>\n",
       "      <td>NY</td>\n",
       "    </tr>\n",
       "    <tr>\n",
       "      <th>1</th>\n",
       "      <td>Adjuntas</td>\n",
       "      <td>Adjuntas Municipio</td>\n",
       "      <td>PR</td>\n",
       "      <td>Puerto Rico</td>\n",
       "      <td>PR</td>\n",
       "    </tr>\n",
       "    <tr>\n",
       "      <th>2</th>\n",
       "      <td>Aguada</td>\n",
       "      <td>Aguada Municipio</td>\n",
       "      <td>PR</td>\n",
       "      <td>Puerto Rico</td>\n",
       "      <td>PR</td>\n",
       "    </tr>\n",
       "    <tr>\n",
       "      <th>3</th>\n",
       "      <td>Aguadilla</td>\n",
       "      <td>Aguadilla Municipio</td>\n",
       "      <td>PR</td>\n",
       "      <td>Puerto Rico</td>\n",
       "      <td>PR</td>\n",
       "    </tr>\n",
       "    <tr>\n",
       "      <th>4</th>\n",
       "      <td>Maricao</td>\n",
       "      <td>Maricao Municipio</td>\n",
       "      <td>PR</td>\n",
       "      <td>Puerto Rico</td>\n",
       "      <td>PR</td>\n",
       "    </tr>\n",
       "  </tbody>\n",
       "</table>\n",
       "</div>"
      ],
      "text/plain": [
       "  primary_city               county state        State Abbreviation\n",
       "0   Holtsville       Suffolk County    NY     New York           NY\n",
       "1     Adjuntas   Adjuntas Municipio    PR  Puerto Rico           PR\n",
       "2       Aguada     Aguada Municipio    PR  Puerto Rico           PR\n",
       "3    Aguadilla  Aguadilla Municipio    PR  Puerto Rico           PR\n",
       "4      Maricao    Maricao Municipio    PR  Puerto Rico           PR"
      ]
     },
     "execution_count": 173,
     "metadata": {},
     "output_type": "execute_result"
    }
   ],
   "source": [
    "# Get full state names, left join on state_abbr\n",
    "city_county = city_county.merge(state_abbr, left_on='state', right_on='Abbreviation', how='left')\n",
    "city_county.head()"
   ]
  },
  {
   "cell_type": "code",
   "execution_count": 174,
   "metadata": {},
   "outputs": [
    {
     "data": {
      "text/html": [
       "<div>\n",
       "<style scoped>\n",
       "    .dataframe tbody tr th:only-of-type {\n",
       "        vertical-align: middle;\n",
       "    }\n",
       "\n",
       "    .dataframe tbody tr th {\n",
       "        vertical-align: top;\n",
       "    }\n",
       "\n",
       "    .dataframe thead th {\n",
       "        text-align: right;\n",
       "    }\n",
       "</style>\n",
       "<table border=\"1\" class=\"dataframe\">\n",
       "  <thead>\n",
       "    <tr style=\"text-align: right;\">\n",
       "      <th></th>\n",
       "      <th>city</th>\n",
       "      <th>county</th>\n",
       "      <th>state</th>\n",
       "      <th>abbr</th>\n",
       "      <th>county_state</th>\n",
       "    </tr>\n",
       "  </thead>\n",
       "  <tbody>\n",
       "    <tr>\n",
       "      <th>0</th>\n",
       "      <td>Holtsville</td>\n",
       "      <td>Suffolk County</td>\n",
       "      <td>New York</td>\n",
       "      <td>NY</td>\n",
       "      <td>Suffolk County, New York</td>\n",
       "    </tr>\n",
       "    <tr>\n",
       "      <th>1</th>\n",
       "      <td>Adjuntas</td>\n",
       "      <td>Adjuntas Municipio</td>\n",
       "      <td>Puerto Rico</td>\n",
       "      <td>PR</td>\n",
       "      <td>Adjuntas Municipio, Puerto Rico</td>\n",
       "    </tr>\n",
       "    <tr>\n",
       "      <th>2</th>\n",
       "      <td>Aguada</td>\n",
       "      <td>Aguada Municipio</td>\n",
       "      <td>Puerto Rico</td>\n",
       "      <td>PR</td>\n",
       "      <td>Aguada Municipio, Puerto Rico</td>\n",
       "    </tr>\n",
       "    <tr>\n",
       "      <th>3</th>\n",
       "      <td>Aguadilla</td>\n",
       "      <td>Aguadilla Municipio</td>\n",
       "      <td>Puerto Rico</td>\n",
       "      <td>PR</td>\n",
       "      <td>Aguadilla Municipio, Puerto Rico</td>\n",
       "    </tr>\n",
       "    <tr>\n",
       "      <th>4</th>\n",
       "      <td>Maricao</td>\n",
       "      <td>Maricao Municipio</td>\n",
       "      <td>Puerto Rico</td>\n",
       "      <td>PR</td>\n",
       "      <td>Maricao Municipio, Puerto Rico</td>\n",
       "    </tr>\n",
       "  </tbody>\n",
       "</table>\n",
       "</div>"
      ],
      "text/plain": [
       "         city               county        state abbr  \\\n",
       "0  Holtsville       Suffolk County     New York   NY   \n",
       "1    Adjuntas   Adjuntas Municipio  Puerto Rico   PR   \n",
       "2      Aguada     Aguada Municipio  Puerto Rico   PR   \n",
       "3   Aguadilla  Aguadilla Municipio  Puerto Rico   PR   \n",
       "4     Maricao    Maricao Municipio  Puerto Rico   PR   \n",
       "\n",
       "                       county_state  \n",
       "0          Suffolk County, New York  \n",
       "1   Adjuntas Municipio, Puerto Rico  \n",
       "2     Aguada Municipio, Puerto Rico  \n",
       "3  Aguadilla Municipio, Puerto Rico  \n",
       "4    Maricao Municipio, Puerto Rico  "
      ]
     },
     "execution_count": 174,
     "metadata": {},
     "output_type": "execute_result"
    }
   ],
   "source": [
    "# rename primary_city to city, drop state\n",
    "city_county = city_county.drop(columns=['state'])\n",
    "city_county = city_county.rename(columns={'primary_city': 'city', 'State': 'state', 'Abbreviation': 'abbr'})\n",
    "city_county['county_state'] = city_county['county'] + ', ' + city_county['state']\n",
    "city_county.head()"
   ]
  },
  {
   "cell_type": "code",
   "execution_count": 175,
   "metadata": {},
   "outputs": [
    {
     "data": {
      "text/plain": [
       "52"
      ]
     },
     "execution_count": 175,
     "metadata": {},
     "output_type": "execute_result"
    }
   ],
   "source": [
    "# state_id, name, abbr\n",
    "state = city_county[['state', 'abbr']].drop_duplicates().reset_index()\n",
    "state = state.rename(columns={'state': 'name'})\n",
    "state_fips = pd.read_csv(\"data/state-geocodes-v2019.csv\")\n",
    "state = pd.merge(state,state_fips, left_on = \"name\", right_on = \"Name\", how=\"inner\")\n",
    "state = state[['State (FIPS)', 'name', 'abbr']]\n",
    "state[\"state_id\"] = state[\"State (FIPS)\"]\n",
    "state = state[['state_id', 'name', 'abbr']]\n",
    "len(state)"
   ]
  },
  {
   "cell_type": "code",
   "execution_count": 176,
   "metadata": {},
   "outputs": [],
   "source": [
    "\n",
    "county = city_county[['county', 'state']].drop_duplicates().reset_index()\n",
    "county = county.rename(columns={'county': 'name'})\n",
    "county = county.merge(state, left_on='state', right_on='name', how='left')\n",
    "county = county[['state_id', 'name_x', 'state']].rename(columns={'name_x': 'name'})\n",
    "county['name'] = county['name'].str.title()\n",
    "county_sort = county.sort_values(by = ['state', 'name'])\n",
    "\n",
    "def generate_county_index(group):\n",
    "    # Sort the group alphabetically by county\n",
    "    sorted_group = group.sort_values(by='name')\n",
    "    # Generate county index starting from 1 and incrementing by 2\n",
    "    sorted_group['county_id'] = range(1, len(group) * 2, 2)\n",
    "    return sorted_group\n",
    "\n",
    "county_sort = county_sort.groupby('state').apply(generate_county_index).reset_index(drop=True)\n",
    "county_sort.head(10)\n",
    "county_sort[\"state_id\"] = county_sort[\"state_id\"].astype(str)\n",
    "county_sort[\"county_id\"] = county_sort[\"county_id\"].astype(str)\n",
    "\n",
    "def s_add_zero(s):\n",
    "    if len(s) == 1:\n",
    "        return '0' + s\n",
    "    else:\n",
    "        return s\n",
    "\n",
    "def c_add_zero(s):\n",
    "    if len(s) == 1:\n",
    "        return '00' + s\n",
    "    elif len(s) == 2:\n",
    "        return '0'+s\n",
    "    else:\n",
    "        return s\n",
    "state[\"state_id\"] = state[\"state_id\"].astype(str)\n",
    "state[\"state_id\"]  = state[\"state_id\"].apply(s_add_zero)\n",
    "county_sort[\"state_id\"]  = county_sort[\"state_id\"].apply(s_add_zero)\n",
    "county_sort[\"county_id\"] = county_sort[\"county_id\"].apply(c_add_zero)\n",
    "county_sort.head()\n",
    "county_sort.to_csv(\"data/county_sort1.csv\")\n",
    "\n",
    "## manual edits now need to made to county_sort for discrepancies"
   ]
  },
  {
   "cell_type": "code",
   "execution_count": 177,
   "metadata": {},
   "outputs": [
    {
     "data": {
      "text/html": [
       "<div>\n",
       "<style scoped>\n",
       "    .dataframe tbody tr th:only-of-type {\n",
       "        vertical-align: middle;\n",
       "    }\n",
       "\n",
       "    .dataframe tbody tr th {\n",
       "        vertical-align: top;\n",
       "    }\n",
       "\n",
       "    .dataframe thead th {\n",
       "        text-align: right;\n",
       "    }\n",
       "</style>\n",
       "<table border=\"1\" class=\"dataframe\">\n",
       "  <thead>\n",
       "    <tr style=\"text-align: right;\">\n",
       "      <th></th>\n",
       "      <th>city_id</th>\n",
       "      <th>city</th>\n",
       "      <th>state_id</th>\n",
       "      <th>state</th>\n",
       "    </tr>\n",
       "  </thead>\n",
       "  <tbody>\n",
       "    <tr>\n",
       "      <th>0</th>\n",
       "      <td>0</td>\n",
       "      <td>Aaronsburg</td>\n",
       "      <td>42</td>\n",
       "      <td>Pennsylvania</td>\n",
       "    </tr>\n",
       "    <tr>\n",
       "      <th>1</th>\n",
       "      <td>1</td>\n",
       "      <td>Abbeville</td>\n",
       "      <td>45</td>\n",
       "      <td>South Carolina</td>\n",
       "    </tr>\n",
       "    <tr>\n",
       "      <th>2</th>\n",
       "      <td>2</td>\n",
       "      <td>Abbeville</td>\n",
       "      <td>22</td>\n",
       "      <td>Louisiana</td>\n",
       "    </tr>\n",
       "    <tr>\n",
       "      <th>3</th>\n",
       "      <td>3</td>\n",
       "      <td>Abbeville</td>\n",
       "      <td>01</td>\n",
       "      <td>Alabama</td>\n",
       "    </tr>\n",
       "    <tr>\n",
       "      <th>4</th>\n",
       "      <td>4</td>\n",
       "      <td>Abbeville</td>\n",
       "      <td>28</td>\n",
       "      <td>Mississippi</td>\n",
       "    </tr>\n",
       "  </tbody>\n",
       "</table>\n",
       "</div>"
      ],
      "text/plain": [
       "   city_id        city state_id           state\n",
       "0        0  Aaronsburg       42    Pennsylvania\n",
       "1        1   Abbeville       45  South Carolina\n",
       "2        2   Abbeville       22       Louisiana\n",
       "3        3   Abbeville       01         Alabama\n",
       "4        4   Abbeville       28     Mississippi"
      ]
     },
     "execution_count": 177,
     "metadata": {},
     "output_type": "execute_result"
    }
   ],
   "source": [
    "# create a city dataframe with\n",
    "# city_id, state_id, name\n",
    "county_sort = pd.read_csv(\"data/county_sort2.csv\", dtype = str)\n",
    "county_sort['county_id'] = county_sort['state_id'] + county_sort['county_id']\n",
    "county_sort = county_sort[['state_id', 'county_id', 'name', 'state']]\n",
    "city = city_county[['city', 'county', 'state']].drop_duplicates().reset_index()\n",
    "city = city.drop(columns=['county'])\n",
    "city = city.sort_values('city').reset_index()\n",
    "city['city_id'] = city.index\n",
    "city = city[['city_id', 'city', 'state']]\n",
    "city = city.merge(state, left_on='state', right_on='name', how='left')\n",
    "city = city[['city_id', 'city', 'state_id', 'state']]\n",
    "city.head()\n"
   ]
  },
  {
   "cell_type": "code",
   "execution_count": 178,
   "metadata": {},
   "outputs": [
    {
     "data": {
      "text/html": [
       "<div>\n",
       "<style scoped>\n",
       "    .dataframe tbody tr th:only-of-type {\n",
       "        vertical-align: middle;\n",
       "    }\n",
       "\n",
       "    .dataframe tbody tr th {\n",
       "        vertical-align: top;\n",
       "    }\n",
       "\n",
       "    .dataframe thead th {\n",
       "        text-align: right;\n",
       "    }\n",
       "</style>\n",
       "<table border=\"1\" class=\"dataframe\">\n",
       "  <thead>\n",
       "    <tr style=\"text-align: right;\">\n",
       "      <th></th>\n",
       "      <th>city_id</th>\n",
       "      <th>county_id</th>\n",
       "      <th>state_id</th>\n",
       "    </tr>\n",
       "  </thead>\n",
       "  <tbody>\n",
       "    <tr>\n",
       "      <th>0</th>\n",
       "      <td>12385</td>\n",
       "      <td>36105</td>\n",
       "      <td>36</td>\n",
       "    </tr>\n",
       "    <tr>\n",
       "      <th>1</th>\n",
       "      <td>124</td>\n",
       "      <td>72001</td>\n",
       "      <td>72</td>\n",
       "    </tr>\n",
       "    <tr>\n",
       "      <th>2</th>\n",
       "      <td>166</td>\n",
       "      <td>72003</td>\n",
       "      <td>72</td>\n",
       "    </tr>\n",
       "    <tr>\n",
       "      <th>3</th>\n",
       "      <td>167</td>\n",
       "      <td>72005</td>\n",
       "      <td>72</td>\n",
       "    </tr>\n",
       "    <tr>\n",
       "      <th>4</th>\n",
       "      <td>16337</td>\n",
       "      <td>72101</td>\n",
       "      <td>72</td>\n",
       "    </tr>\n",
       "  </tbody>\n",
       "</table>\n",
       "</div>"
      ],
      "text/plain": [
       "   city_id county_id state_id\n",
       "0    12385     36105       36\n",
       "1      124     72001       72\n",
       "2      166     72003       72\n",
       "3      167     72005       72\n",
       "4    16337     72101       72"
      ]
     },
     "execution_count": 178,
     "metadata": {},
     "output_type": "execute_result"
    }
   ],
   "source": [
    "# Now make city_county\n",
    "# city_id, county_id, state_id\n",
    "\n",
    "city_county = city_county.merge(city, on = ['city', 'state'], how='left')\n",
    "city_county = city_county.merge(county_sort, left_on=['county', 'state'], right_on=['name', 'state'], how='left')\n",
    "city_county = city_county[['city_id', 'county_id', 'state_id_x']]\n",
    "city_county = city_county.rename(columns={'state_id_x': 'state_id'})\n",
    "city_county = city_county.dropna()\n",
    "city_county = city_county.drop_duplicates().reset_index()\n",
    "city_county = city_county.drop(columns=['index'])\n",
    "city_county.head()"
   ]
  },
  {
   "cell_type": "code",
   "execution_count": 179,
   "metadata": {},
   "outputs": [],
   "source": [
    "city = city.drop(columns=['state'])\n",
    "county = county.drop(columns=['state'])"
   ]
  },
  {
   "cell_type": "code",
   "execution_count": 180,
   "metadata": {},
   "outputs": [],
   "source": [
    "# exports\n",
    "city.to_csv('data/city.csv', index=False)\n",
    "city_county.to_csv('data/city_county.csv', index=False)\n",
    "county_sort.to_csv('data/county.csv', index=False)\n",
    "state.to_csv('data/state.csv', index=False)"
   ]
  }
 ],
 "metadata": {
  "kernelspec": {
   "display_name": "Python 3",
   "language": "python",
   "name": "python3"
  },
  "language_info": {
   "codemirror_mode": {
    "name": "ipython",
    "version": 3
   },
   "file_extension": ".py",
   "mimetype": "text/x-python",
   "name": "python",
   "nbconvert_exporter": "python",
   "pygments_lexer": "ipython3",
   "version": "3.11.8"
  }
 },
 "nbformat": 4,
 "nbformat_minor": 2
}
